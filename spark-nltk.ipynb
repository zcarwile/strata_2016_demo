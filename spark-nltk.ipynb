{
 "cells": [
  {
   "cell_type": "markdown",
   "metadata": {},
   "source": [
    "Import PySpark modules"
   ]
  },
  {
   "cell_type": "code",
   "execution_count": 2,
   "metadata": {
    "collapsed": false
   },
   "outputs": [],
   "source": [
    "from pyspark import SparkConf\n",
    "from pyspark import SparkContext"
   ]
  },
  {
   "cell_type": "markdown",
   "metadata": {},
   "source": [
    "Import the NLTK package"
   ]
  },
  {
   "cell_type": "code",
   "execution_count": 15,
   "metadata": {
    "collapsed": true
   },
   "outputs": [],
   "source": [
    "import nltk"
   ]
  },
  {
   "cell_type": "markdown",
   "metadata": {},
   "source": [
    "Create a SparkContext that uses the YARN resource manager and specifies a name for the application"
   ]
  },
  {
   "cell_type": "code",
   "execution_count": 4,
   "metadata": {
    "collapsed": true
   },
   "outputs": [],
   "source": [
    "conf = SparkConf()\n",
    "conf.setMaster('yarn-client')\n",
    "conf.setAppName('spark-nltk')\n",
    "sc = SparkContext(conf=conf)"
   ]
  },
  {
   "cell_type": "markdown",
   "metadata": {},
   "source": [
    "### RDD Creation\n",
    "\n",
    "Specify the location of the data on the cluster nodes"
   ]
  },
  {
   "cell_type": "code",
   "execution_count": 52,
   "metadata": {
    "collapsed": false
   },
   "outputs": [],
   "source": [
    "data = sc.wholeTextFiles('file:///usr/share/nltk_data/corpora/state_union/')"
   ]
  },
  {
   "cell_type": "code",
   "execution_count": 53,
   "metadata": {
    "collapsed": true
   },
   "outputs": [],
   "source": [
    "# data = sc.textFile('file:///usr/share/nltk_data/corpora/state_union/')"
   ]
  },
  {
   "cell_type": "code",
   "execution_count": 54,
   "metadata": {
    "collapsed": false
   },
   "outputs": [
    {
     "data": {
      "text/plain": [
       "[(u'file:/usr/share/nltk_data/corpora/state_union/1961-Kennedy.txt',\n",
       "  u'PRESIDENT JOHN F. KENNEDY\\'S SPECIAL MESSAGE TO THE CONGRESS ON URGENT NATIONAL NEEDS\\n \\nMay 25, 1961\\n\\nMr. Speaker, Mr. Vice President, my copartners in Government, gentlemen-and ladies:\\nThe Constitution imposes upon me the obligation to \"from time to time give to the Congress information of the State of the Union.\" While this has traditionally been interpreted as an annual affair, this tradition has been broken in extraordinary times.\\nThese are extraordinary times. And we face an extraordinary challenge. Our strength as well as our convictions have imposed upon this nation the role of leader in freedom\\'s cause.\\nNo role in history could be more difficult or more important. We stand for freedom.\\nThat is our conviction for ourselves--that is our only commitment to others. No friend, no neutral and no adversary should think otherwise. We are not against any man--or any nation--or any system--except as it is hostile to freedom. Nor am I here to present a new military doctrine, bearing any one name or aimed at any one area. I am here to promote the freedom doctrine.\\n \\nI.\\nThe great battleground for the defense and expansion of freedom today is the whole southern half of the globe--Asia, Latin America, Africa and the Middle East--the lands of the rising peoples. Their revolution is the greatest in human history. They seek an end to injustice, tyranny, and exploitation. More than an end, they seek a beginning.\\nAnd theirs is a revolution which we would support regardless of the Cold War, and regardless of which political or economic route they should choose to freedom.\\nFor the adversaries of freedom did not create the revolution; nor did they create the conditions which compel it. But they are seeking to ride the crest of its wave--to capture it for themselves.\\nYet their aggression is more often concealed than open. They have fired no missiles; and their troops are seldom seen. They send arms, agitators, aid, technicians and propaganda to every troubled area. But where fighting is required, it is usually done by others--by guerrillas striking at night, by assassins striking alone--assassins who have taken the lives of four thousand civil officers in the last twelve months in Vietnam alone--by subversives and saboteurs and insurrectionists, who in some cases control whole areas inside of independent nations.\\n\\n[At this point the following paragraph, which appears in the text as signed and transmitted to the Senate and House of Representatives, was omitted in the reading of the message:\\nThey possess a powerful intercontinental striking force, large forces for conventional war, a well-trained underground in nearly every country, the power to conscript talent and manpower for any purpose, the capacity for quick decisions, a closed society without dissent or free information, and long experience in the techniques of violence and subversion. They make the most of their scientific successes, their economic progress and their pose as a foe of colonialism and friend of popular revolution. They prey on unstable or unpopular governments, unsealed, or unknown boundaries, unfilled hopes, convulsive change, massive poverty, illiteracy, unrest and frustration.]\\n\\nWith these formidable weapons, the adversaries of freedom plan to consolidate their territory--to exploit, to control, and finally to destroy the hopes of the world\\'s newest nations; and they have ambition to do it before the end of this decade. It is a contest of will and purpose as well as force and violence--a battle for minds and souls as well as lives and territory. And in that contest, we cannot stand aside.\\nWe stand, as we have always stood from our earliest beginnings, for the independence and equality of all nations. This nation was born of revolution and raised in freedom. And we do not intend to leave an open road for despotism.\\nThere is no single simple policy which meets this challenge. Experience has taught us that no one nation has the power or the wisdom to solve all the problems of the world or manage its revolutionary tides--that extending our commitments does not always increase our security--that any initiative carries with it the risk of a temporary defeat--that nuclear weapons cannot prevent subversion--that no free people can be kept free without will and energy of their own--and that no two nations or situations are exactly alike.\\nYet there is much we can do--and must do. The proposals I bring before you are numerous and varied. They arise from the host of special opportunities and dangers which have become increasingly clear in recent months. Taken together, I believe that they can mark another step forward in our effort as a people. I am here to ask the help of this Congress and the nation in approving these necessary measures.\\n \\nII. ECONOMIC AND SOCIAL PROGRESS AT HOME\\nThe first and basic task confronting this nation this year was to turn recession into recovery. An affirmative anti-recession program, initiated with your cooperation, supported the natural forces in the private sector; and our economy is now enjoying renewed confidence and energy. The recession has been halted. Recovery is under way.\\nBut the task of abating unemployment and achieving a full use of our resources does remain a serious challenge for us all. Large-scale unemployment during a recession is bad enough, but large-scale unemployment during a period of prosperity would be intolerable.\\nI am therefore transmitting to the Congress a new Manpower Development and Training program, to train or retrain several hundred thousand workers, particularly in those areas where we have seen chronic unemployment as a result of technological factors in new occupational skills over a four-year period, in order to replace those skills made obsolete by automation and industrial change with the new skills which the new processes demand.\\nIt should be a satisfaction to us all that we have made great strides in restoring world confidence in the dollar, halting the outflow of gold and improving our balance of payments. During the last two months, our gold stocks actually increased by seventeen million dollars, compared to a loss of 635 million dollars during the last two months of 1960. We must maintain this progress--and this will require the cooperation and restraint of everyone. As recovery progresses, there will be temptations to seek unjustified price and wage increases. These we cannot afford. They will only handicap our efforts to compete abroad and to achieve full recovery here at home. Labor and management must--and I am confident that they will--pursue responsible wage and price policies in these critical times. I look to the President\\'s Advisory Committee on Labor Management Policy to give a strong lead in this direction.\\nMoreover, if the budget deficit now increased by the needs of our security is to be held within manageable proportions, it will be necessary to hold tightly to prudent fiscal standards; and I request the cooperation of the Congress in this regard--to refrain from adding funds or programs, desirable as they may be, to the Budget--to end the postal deficit, as my predecessor also recommended, through increased rates--a deficit incidentally, this year, which exceeds the fiscal 1962 cost of all the space and defense measures that I am submitting today--to provide full pay-as-you-go highway financing--and to close those tax loopholes earlier specified. Our security and progress cannot be cheaply purchased; and their price must be found in what we all forego as well as what we all must pay.\\n \\nIII. ECONOMIC AND SOCIAL PROGRESS ABROAD\\nI stress the strength of our economy because it is essential to the strength of our nation. And what is true in our case is true in the case of other countries. Their strength in the struggle for freedom depends on the strength of their economic and their social progress.\\nWe would be badly mistaken to consider their problems in military terms alone. For no amount of arms and armies can help stabilize those governments which are unable or unwilling to achieve social and economic reform and development. Military pacts cannot help nations whose social injustice and economic chaos invite insurgency and penetration and subversion. The most skillful counter-guerrilla efforts cannot succeed where the local population is too caught up in its own misery to be concerned about the advance of communism.\\nBut for those who share this view, we stand ready now, as we have in the past, to provide generously of our skills, and our capital, and our food to assist the peoples of the less-developed nations to reach their goals in freedom--to help them before they are engulfed in crisis.\\nThis is also our great opportunity in 1961. If we grasp it, then subversion to prevent its success is exposed as an unjustifiable attempt to keep these nations from either being free or equal. But if we do not pursue it, and if they do not pursue it, the bankruptcy of unstable governments, one by one, and of unfilled hopes will surely lead to a series of totalitarian receiverships.\\nEarlier in the year, I outlined to the Congress a new program for aiding emerging nations; and it is my intention to transmit shortly draft legislation to implement this program, to establish a new Act for International Development, and to add to the figures previously requested, in view of the swift pace of critical events, an additional 250 million dollars for a Presidential Contingency Fund, to be used only upon a Presidential determination in each case, with regular and complete reports to the Congress in each case, when there is a sudden and extraordinary drain upon our regular funds which we cannot foresee--as illustrated by recent events in Southeast Asia--and it makes necessary the use of this emergency reserve. The total amount requested--now raised to 2..65 billion dollars--is both minimal and crucial. I do not see how anyone who is concerned--as we all are--about the growing threats to freedom around the globe--and who is asking what more we can do as a people--can weaken or oppose the single most important program available for building the frontiers of freedom.\\n \\nIV.\\nAll that I have said makes it clear that we are engaged in a world-wide struggle in which we bear a heavy burden to preserve and promote the ideals that we share with all mankind, or have alien ideals forced upon them. That struggle has highlighted the role of our Information Agency. It is essential that the funds previously requested for this effort be not only approved in full, but increased by 2 million, 400 thousand dollars, to a total of 121 million dollars.\\nThis new request is for additional radio and television to Latin America and Southeast Asia. These tools are particularly effective and essential in the cities and villages of those great continents as a means of reaching millions of uncertain peoples to tell them of our interest in their fight for freedom. In Latin America, we are proposing to increase our Spanish and Portuguese broadcasts to a total of 154 hours a week, compared to 42 hours today, none of which is in Portuguese, the language of about one-third of the people of South America. The Soviets, Red Chinese and satellites already broadcast into Latin America more than 134 hours a week in Spanish and Portuguese. Communist China alone does more public information broadcasting in our own hemisphere than we do. Moreover, powerful propaganda broadcasts from Havana now are heard throughout Latin America, encouraging new revolutions in several countries.\\nSimilarly, in Laos, Vietnam, Cambodia, and Thailand, we must communicate our determination and support to those upon whom our hopes for resisting the communist tide in that continent ultimately depend. Our interest is in the truth.\\n \\nV. OUR PARTNERSHIP FOR SELF-DEFENSE\\nBut while we talk of sharing and building and the competition of ideas, others talk of arms and threaten war. So we have learned to keep our defenses strong--and to cooperate with others in a partnership of self-defense. The events of recent weeks have caused us to look anew at these efforts.\\nThe center of freedom\\'s defense is our network of world alliances, extending from NATO, recommended by a Democratic President and approved by a Republican Congress, to SEATO, recommended by a Republican President and approved by a Democratic Congress. These alliances were constructed in the 1940\\'s and 1950\\'s--it is our task and responsibility in the 1960\\'s to strengthen them.\\nTo meet the changing conditions of power--and power relationships have changed--we have endorsed an increased emphasis on NATO\\'s conventional strength. At the same time we are affirming our conviction that the NATO nuclear deterrent must also be kept strong. I have made clear our intention to commit to the NATO command, for this purpose, the 5 Polaris submarines originally suggested by President Eisenhower, with the possibility, if needed, of more to come.\\nSecond, a major part of our partnership for self-defense is the Military Assistance Program. The main burden of local defense against local attack, subversion, insurrection or guerrilla warfare must of necessity rest with local forces. Where these forces have the necessary will and capacity to cope with such threats, our intervention is rarely necessary or helpful. Where the will is present and only capacity is lacking, our Military Assistance Program can be of help.\\nBut this program, like economic assistance, needs a new emphasis. It cannot be extended without regard to the social, political and military reforms essential to internal respect and stability. The equipment and training provided must be tailored to legitimate local needs and to our own foreign and military policies, not to our supply of military stocks or a local leader\\'s desire for military display. And military assistance can, in addition to its military purposes, make a contribution to economic progress, as do our own Army Engineers.\\nIn an earlier message, I requested 1.6 billion dollars for Military Assistance, stating that this would maintain existing force levels, but that I could not foresee how much more might be required. It is now clear that this is not enough. The present crisis in Southeast Asia, on which the Vice President has made a valuable report--the rising threat of communism in Latin America--the increased arms traffic in Africa--and all the new pressures on every nation found on the map by tracing your fingers along the borders of the Communist bloc in Asia and the Middle East--all make clear the dimension of our needs.\\nI therefore request the Congress to provide a total of 1.885 billion dollars for Military Assistance in the coming fiscal year--an amount less than that requested a year ago--but a minimum which must be assured if we are to help those nations make secure their independence. This must be prudently and wisely spent--and that will be our common endeavor. Military and economic assistance has been a heavy burden on our citizens for a long time, and I recognize the strong pressures against it; but this battle is far from over, it is reaching a crucial stage, and I believe we should participate in it. We cannot merely state our opposition to totalitarian advance without paying the price of helping those now under the greatest pressure.\\n \\nVI. OUR OWN MILITARY AND INTELLIGENCE SHIELD\\nIn line with these developments, I have directed a further reinforcement of our own capacity to deter or resist non-nuclear aggression. In the conventional field, with one exception, I find no present need for large new levies of men. What is needed is rather a change of position to give us still further increases in flexibility.\\nTherefore, I am directing the Secretary of Defense to undertake a reorganization and modernization of the Army\\'s divisional structure, to increase its non-nuclear firepower, to improve its tactical mobility in any environment, to insure its flexibility to meet any direct or indirect threat, to facilitate its coordination with our major allies, and to provide more modern mechanized divisions in Europe and bring their equipment up to date, and new airborne brigades in both the Pacific and Europe.\\nAnd secondly, I am asking the Congress for an additional 100 million dollars to begin the procurement task necessary to re-equip this new Army structure with the most modern material. New helicopters, new armored personnel carriers, and new howitzers, for example, must be obtained now.\\nThird, I am directing the Secretary of Defense to expand rapidly and substantially, in cooperation with our Allies, the orientation of existing forces for the conduct of non-nuclear war, paramilitary operations and sub-limited or unconventional wars.\\nIn addition our special forces and unconventional warfare units will be increased and reoriented. Throughout the services new emphasis must be placed on the special skills and languages which are required to work with local populations.\\nFourth, the Army is developing plans to make possible a much more rapid deployment of a major portion of its highly trained reserve forces. When these plans are completed and the reserve is strengthened, two combat-equipped divisions, plus their supporting forces, a total of 89,000 men, could be ready in an emergency for operations with but 3 weeks\\' notice--2 more divisions with but 5 weeks\\' notice--and six additional divisions and their supporting forces, making a total of 10 divisions, could be deployable with less than 8 weeks\\' notice. In short, these new plans will allow us to almost double the combat power of the Army in less than two months, compared to the nearly nine months heretofore required.\\nFifth, to enhance the already formidable ability of the Marine Corps to respond to limited war emergencies, I am asking the Congress for 60 million dollars to increase the Marine Corps strength to 190,000 men. This will increase the initial impact and staying power of our three Marine divisions and three air wings, and provide a trained nucleus for further expansion, if necessary for self-defense.\\nFinally, to cite one other area of activities that are both legitimate and necessary as a means of self-defense in an age of hidden perils, our whole intelligence effort must be reviewed, and its coordination with other elements of policy assured. The Congress and the American people are entitled to know that we will institute whatever new organization, policies, and control are necessary.\\n \\nVII. CIVIL DEFENSE\\nOne major element of the national security program which this nation has never squarely faced up to is civil defense. This problem arises not from present trends but from national inaction in which most of us have participated. In the past decade we have intermittently considered a variety of programs, but we have never adopted a consistent policy. Public considerations have been largely characterized by apathy, indifference and skepticism; while, at the same time, many of the civil defense plans have been so far-reaching and unrealistic that they have not gained essential support.\\nThis Administration has been looking hard at exactly what civil defense can and cannot do. It cannot be obtained cheaply. It cannot give an assurance of blast protection that will be proof against surprise attack or guaranteed against obsolescence or destruction. And it cannot deter a nuclear attack.\\nWe will deter an enemy from making a nuclear attack only if our retaliatory power is so strong and so invulnerable that he knows he would be destroyed by our response. If we have that strength, civil defense is not needed to deter an attack. If we should ever lack it, civil defense would not be an adequate substitute.\\nBut this deterrent concept assumes rational calculations by rational men. And the history of this planet, and particularly the history of the 20th century, is sufficient to remind us of the possibilities of an irrational attack, a miscalculation, an accidental war, [or a war of escalation in which the stakes by each side gradually increase to the point of maximum danger] which cannot be either foreseen or deterred. It is on this basis that civil defense can be readily justifiable--as insurance for the civilian population in case of an enemy miscalculation. It is insurance we trust will never be needed--but insurance which we could never forgive ourselves for foregoing in the event of catastrophe.\\nOnce the validity of this concept is recognized, there is no point in delaying the initiation of a nation-wide long-range program of identifying present fallout shelter capacity and providing shelter in new and existing structures. Such a program would protect millions of people against the hazards of radioactive fallout in the event of large-scale nuclear attack. Effective performance of the entire program not only requires new legislative authority and more funds, but also sound organizational arrangements.\\nTherefore, under the authority vested in me by Reorganization Plan No. 1 of 1958, I am assigning responsibility for this program to the top civilian authority already responsible for continental defense, the Secretary of Defense. It is important that this function remain civilian, in nature and leadership; and this feature will not be changed.\\nThe Office of Civil and Defense Mobilization will be reconstituted as a small staff agency to assist in the coordination of these functions. To more accurately describe its role, its title should be changed to the Office of Emergency Planning.\\nAs soon as those newly charged with these responsibilities have prepared new authorization and appropriation requests, such requests will be transmitted to the Congress for a much strengthened Federal-State civil defense program. Such a program will provide Federal funds for identifying fallout shelter capacity in existing, structures, and it will include, where appropriate, incorporation of shelter in Federal buildings, new requirements for shelter in buildings constructed with Federal assistance, and matching grants and other incentives for constructing shelter in State and local and private buildings.\\nFederal appropriations for civil defense in fiscal 1962 under this program will in all likelihood be more than triple the pending budget requests; and they will increase sharply in subsequent years. Financial participation will also be required from State and local governments and from private citizens. But no insurance is cost-free; and every American citizen and his community must decide for themselves whether this form of survival insurance justifies the expenditure of effort, time and money. For myself, I am convinced that it does.\\n \\nVIII. DISARMAMENT\\nI cannot end this discussion of defense and armaments without emphasizing our strongest hope: the creation of an orderly world where disarmament will be possible. Our aims do not prepare for war--they are efforts to discourage and resist the adventures of others that could end in war.\\nThat is why it is consistent with these efforts that we continue to press for properly safeguarded disarmament measures. At Geneva, in cooperation with the United Kingdom, we have put forward concrete proposals to make clear our wish to meet the Soviets half way in an effective nuclear test ban treaty--the first significant but essential step on the road towards disarmament. Up to now, their response has not been what we hoped, but Mr. Dean returned last night to Geneva, and we intend to go the last mile in patience to secure this gain if we can.\\nMeanwhile, we are determined to keep disarmament high on our agenda--to make an intensified effort to develop acceptable political and technical alternatives to the present arms race. To this end I shall send to the Congress a measure to establish a strengthened and enlarged Disarmament Agency.\\n \\nIX. SPACE\\nFinally, if we are to win the battle that is now going on around the world between freedom and tyranny, the dramatic achievements in space which occurred in recent weeks should have made clear to us all, as did the Sputnik in 1957, the impact of this adventure on the minds of men everywhere, who are attempting to make a determination of which road they should take. Since early in my term, our efforts in space have been under review. With the advice of the Vice President, who is Chairman of the National Space Council, we have examined where we are strong and where we are not, where we may succeed and where we may not. Now it is time to take longer strides--time for a great new American enterprise--time for this nation to take a clearly leading role in space achievement, which in many ways may hold the key to our future on earth.\\nI believe we possess all the resources and talents necessary. But the facts of the matter are that we have never made the national decisions or marshalled the national resources required for such leadership. We have never specified long-range goals on an urgent time schedule, or managed our resources and our time so as to insure their fulfillment.\\nRecognizing the head start obtained by the Soviets with their large rocket engines, which gives them many months of leadtime, and recognizing the likelihood that they will exploit this lead for some time to come in still more impressive successes, we nevertheless are required to make new efforts on our own. For while we cannot guarantee that we shall one day be first, we can guarantee that any failure to make this effort will make us last. We take an additional risk by making it in full view of the world, but as shown by the feat of astronaut Shepard, this very risk enhances our stature when we are successful. But this is not merely a race. Space is open to us now; and our eagerness to share its meaning is not governed by the efforts of others. We go into space because whatever mankind must undertake, free men must fully share.\\nI therefore ask the Congress, above and beyond the increases I have earlier requested for space activities, to provide the funds which are needed to meet the following national goals:\\nFirst, I believe that this nation should commit itself to achieving the goal, before this decade is out, of landing a man on the moon and returning him safely to the earth. No single space project in this period will be more impressive to mankind, or more important for the long-range exploration of space; and none will be so difficult or expensive to accomplish. We propose to accelerate the development of the appropriate lunar space craft. We propose to develop alternate liquid and solid fuel boosters, much larger than any now being developed, until certain which is superior. We propose additional funds for other engine development and for unmanned explorations--explorations which are particularly important for one purpose which this nation will never overlook: the survival of the man who first makes this daring flight. But in a very real sense, it will not be one man going to the moon--if we make this judgment affirmatively, it will be an entire nation. For all of us must work to put him there.\\nSecondly, an additional 23 million dollars, together with 7 million dollars already available, will accelerate development of the Rover nuclear rocket. This gives promise of some day providing a means for even more exciting and ambitious exploration of space, perhaps beyond the moon, perhaps to the very end of the solar system itself.\\nThird, an additional 50 million dollars will make the most of our present leadership, by accelerating the use of space satellites for world-wide communications.\\nFourth, an additional 75 million dollars--of which 53 million dollars is for the Weather Bureau--will help give us at the earliest possible time a satellite system for world-wide weather observation.\\nLet it be clear--and this is a judgment which the Members of the Congress must finally make--let it be clear that I am asking the Congress and the country to accept a firm commitment to a new course of action, a course which will last for many years and carry very heavy costs: 531 million dollars in fiscal \\'62--an estimated seven to nine billion dollars additional over the next five years. If we are to go only half way, or reduce our sights in the face of difficulty, in my judgment it would be better not to go at all.\\nNow this is a choice which this country must make, and I am confident that under the leadership of the Space Committees of the Congress, and the Appropriating Committees, that you will consider the matter carefully.\\nIt is a most important decision that we make as a nation. But all of you have lived through the last four years and have seen the significance of space and the adventures in space, and no one can predict with certainty what the ultimate meaning will be of mastery of space.\\nI believe we should go to the moon. But I think every citizen of this country as well as the Members of the Congress should consider the matter carefully in making their judgment, to which we have given attention over many weeks and months, because it is a heavy burden, and there is no sense in agreeing or desiring that the United States take an affirmative position in outer space, unless we are prepared to do the work and bear the burdens to make it successful. If we are not, we should decide today and this year.\\nThis decision demands a major national commitment of scientific and technical manpower, materiel and facilities, and the possibility of their diversion from other important activities where they are already thinly spread. It means a degree of dedication, organization and discipline which have not always characterized our research and development efforts. It means we cannot afford undue work stoppages, inflated costs of material or talent, wasteful interagency rivalries, or a high turnover of key personnel.\\nNew objectives and new money cannot solve these problems. They could in fact, aggravate them further--unless every scientist, every engineer, every serviceman, every technician, contractor, and civil servant gives his personal pledge that this nation will move forward, with the full speed of freedom, in the exciting adventure of space.\\n \\nX. CONCLUSION\\nIn conclusion, let me emphasize one point. It is not a pleasure for any President of the United States, as I am sure it was not a pleasure for my predecessors, to come before the Congress and ask for new appropriations which place burdens on our people. I came to this conclusion with some reluctance. But in my judgment, this is a most serious time in the life of our country and in the life of freedom around the globe, and it is the obligation, I believe, of the President of the United States to at least make his recommendations to the Members of the Congress, so that they can reach their own conclusions with that judgment before them. You must decide yourselves, as I have decided, and I am confident that whether you finally decide in the way that I have decided or not, that your judgment--as my judgment--is reached on what is in the best interests of our country.\\nIn conclusion, let me emphasize one point: that we are determined, as a nation in 1961 that freedom shall survive and succeed--and whatever the peril and set-backs, we have some very large advantages.\\nThe first is the simple fact that we are on the side of liberty--and since the beginning of history, and particularly since the end of the Second World War, liberty has been winning out all over the globe.\\nA second real asset is that we are not alone. We have friends and allies all over the world who share our devotion to freedom. May I cite as a symbol of traditional and effective friendship the great ally I am about to visit--France. I look forward to my visit to France, and to my discussion with a great Captain of the Western World, President de Gaulle, as a meeting of particular significance, permitting the kind of close and ranging consultation that will strengthen both our countries and serve the common purposes of world-wide peace and liberty. Such serious conversations do not require a pale unanimity--they are rather the instruments of trust and understanding over a long road.\\nA third asset is our desire for peace. It is sincere, and I believe the world knows it. We are proving it in our patience at the test ban table, and we are proving it in the UN where our efforts have been directed to maintaining that organization\\'s usefulness as a protector of the independence of small nations. In these and other instances, the response of our opponents has not been encouraging.\\nYet it is important to know that our patience at the bargaining table is nearly inexhaustible, though our credulity is limited that our hopes for peace are unfailing, while our determination to protect our security is resolute. For these reasons I have long thought it wise to meet with the Soviet Premier for a personal exchange of views. A meeting in Vienna turned out to be convenient for us both; and the Austrian government has kindly made us welcome. No formal agenda is planned and no negotiations will be undertaken; but we will make clear America\\'s enduring concern is for both peace and freedom--that we are anxious to live in harmony with the Russian people--that we seek no conquests, no satellites, no riches--that we seek only the day when \"nation shall not lift up sword against nation, neither shall they learn war any more.\"\\nFinally, our greatest asset in this struggle is the American people--their willingness to pay the price for these programs--to understand and accept a long struggle--to share their resources with other less fortunate people--to meet the tax levels and close the tax loopholes I have requested--to exercise self-restraint instead of pushing up wages or prices, or over-producing certain crops, or spreading military secrets, or urging unessential expenditures or improper monopolies or harmful work stoppages--to serve in the Peace Corps or the Armed Services or the Federal Civil Service or the Congress--to strive for excellence in their schools, in their cities and in their physical fitness and that of their children--to take part in Civil Defense--to pay higher postal rates, and higher payroll taxes and higher teachers\\' salaries, in order to strengthen our society--to show friendship to students and visitors from other lands who visit us and go back in many cases to be the future leaders, with an image of America--and I want that image, and I know you do, to be affirmative and positive--and, finally, to practice democracy at home, in all States, with all races, to respect each other and to protect the Constitutional rights of all citizens.\\nI have not asked for a single program which did not cause one or all Americans some inconvenience, or some hardship, or some sacrifice. But they have responded and you in the Congress have responded to your duty--and I feel confident in asking today for a similar response to these new and larger demands. It is heartening to know, as I journey abroad, that our country is united in its commitment to freedom and is ready to do its duty.\\n')]"
      ]
     },
     "execution_count": 54,
     "metadata": {},
     "output_type": "execute_result"
    }
   ],
   "source": [
    "data.take(1)"
   ]
  },
  {
   "cell_type": "markdown",
   "metadata": {
    "collapsed": true
   },
   "source": [
    "### Word count"
   ]
  },
  {
   "cell_type": "code",
   "execution_count": 51,
   "metadata": {
    "collapsed": false
   },
   "outputs": [
    {
     "data": {
      "text/plain": [
       "[u'1961',\n",
       " u'2001',\n",
       " u'1992',\n",
       " u'1958',\n",
       " u'1994',\n",
       " u'1963',\n",
       " u'1996',\n",
       " u'2002',\n",
       " u'1991',\n",
       " u'1957',\n",
       " u'1988',\n",
       " u'1980',\n",
       " u'1997',\n",
       " u'1995',\n",
       " u'1956',\n",
       " u'1966',\n",
       " u'1970',\n",
       " u'2005',\n",
       " u'1977',\n",
       " u'1985',\n",
       " u'1953',\n",
       " u'1950',\n",
       " u'1998',\n",
       " u'1969',\n",
       " u'1946',\n",
       " u'1968',\n",
       " u'2006',\n",
       " u'1960',\n",
       " u'1976',\n",
       " u'1974',\n",
       " u'1962',\n",
       " u'1955',\n",
       " u'1999',\n",
       " u'1949',\n",
       " u'1979',\n",
       " u'1971',\n",
       " u'1959',\n",
       " u'1972',\n",
       " u'1990',\n",
       " u'1973',\n",
       " u'1945',\n",
       " u'1965',\n",
       " u'1947',\n",
       " u'1981',\n",
       " u'1989',\n",
       " u'1964',\n",
       " u'1978',\n",
       " u'README',\n",
       " u'1954',\n",
       " u'1984',\n",
       " u'2004',\n",
       " u'1967',\n",
       " u'1951',\n",
       " u'1975',\n",
       " u'1965',\n",
       " u'1948',\n",
       " u'1963',\n",
       " u'2001',\n",
       " u'2000',\n",
       " u'2003',\n",
       " u'1993',\n",
       " u'1986',\n",
       " u'1987',\n",
       " u'1983',\n",
       " u'1982',\n",
       " u'1991']"
      ]
     },
     "execution_count": 51,
     "metadata": {},
     "output_type": "execute_result"
    }
   ],
   "source": [
    "year = data.map(lambda x: x[0].split('-')[0].split('state_union/')[1])\n",
    "year.collect()"
   ]
  },
  {
   "cell_type": "markdown",
   "metadata": {},
   "source": [
    "Map the text data to the word_tokenize function in NLTK"
   ]
  },
  {
   "cell_type": "code",
   "execution_count": 38,
   "metadata": {
    "collapsed": false
   },
   "outputs": [],
   "source": [
    "words = data.map(lambda x: len(nltk.word_tokenize(x[1])))"
   ]
  },
  {
   "cell_type": "markdown",
   "metadata": {},
   "source": [
    "Return ten of the words in the dataset"
   ]
  },
  {
   "cell_type": "code",
   "execution_count": 44,
   "metadata": {
    "collapsed": false
   },
   "outputs": [
    {
     "name": "stdout",
     "output_type": "stream",
     "text": [
      "[6550, 3578, 5896, 5510, 8432, 1857, 7130, 4701, 4555, 4587, 5577, 3808, 7640, 10418, 9056, 6199, 4987, 6018, 5286, 4836, 7714, 5611, 8383, 4617, 30004, 5600, 6462, 6230, 5534, 5757, 7485, 8089, 8586, 3769, 3715, 4511, 5552, 4472, 4415, 1860, 2108, 4189, 6623, 5043, 5582, 3626, 5172, 30, 6653, 5684, 6213, 8150, 4450, 4668, 4922, 5614, 6133, 5369, 10387, 6139, 7810, 4012, 4392, 6310, 5911, 3292]\n"
     ]
    }
   ],
   "source": [
    "print words.collect()"
   ]
  },
  {
   "cell_type": "markdown",
   "metadata": {},
   "source": [
    "NTLK’s POS-tagger can be used to find the part of speech for each word"
   ]
  },
  {
   "cell_type": "code",
   "execution_count": 8,
   "metadata": {
    "collapsed": true
   },
   "outputs": [],
   "source": [
    "pos_word = words.map(lambda x: nltk.pos_tag([x]))"
   ]
  },
  {
   "cell_type": "markdown",
   "metadata": {},
   "source": [
    "Return five of the words in the dataset"
   ]
  },
  {
   "cell_type": "code",
   "execution_count": 9,
   "metadata": {
    "collapsed": false
   },
   "outputs": [
    {
     "name": "stdout",
     "output_type": "stream",
     "text": [
      "[[(u'Address', 'NN')], [(u'on', 'IN')], [(u'the', 'DT')], [(u'State', 'NN')], [(u'of', 'IN')]]\n"
     ]
    }
   ],
   "source": [
    "print pos_word.take(5)"
   ]
  },
  {
   "cell_type": "markdown",
   "metadata": {},
   "source": [
    "### Named Entity Recognition"
   ]
  },
  {
   "cell_type": "markdown",
   "metadata": {},
   "source": [
    "Import named-entity recognition library."
   ]
  },
  {
   "cell_type": "code",
   "execution_count": 65,
   "metadata": {
    "collapsed": false
   },
   "outputs": [],
   "source": [
    "import geograpy"
   ]
  },
  {
   "cell_type": "code",
   "execution_count": 56,
   "metadata": {
    "collapsed": false
   },
   "outputs": [],
   "source": [
    "places = data.map(lambda x: x[0] + \"\\t\\t\" + str(len(x[1])))"
   ]
  },
  {
   "cell_type": "code",
   "execution_count": 57,
   "metadata": {
    "collapsed": false
   },
   "outputs": [
    {
     "data": {
      "text/plain": [
       "[u'file:/usr/share/nltk_data/corpora/state_union/1961-Kennedy.txt\\t\\t35090',\n",
       " u'file:/usr/share/nltk_data/corpora/state_union/2001-GWBush-2.txt\\t\\t18036',\n",
       " u'file:/usr/share/nltk_data/corpora/state_union/1992-Bush.txt\\t\\t28674',\n",
       " u'file:/usr/share/nltk_data/corpora/state_union/1958-Eisenhower.txt\\t\\t30324',\n",
       " u'file:/usr/share/nltk_data/corpora/state_union/1994-Clinton.txt\\t\\t42133']"
      ]
     },
     "execution_count": 57,
     "metadata": {},
     "output_type": "execute_result"
    }
   ],
   "source": [
    "places.take(5)"
   ]
  },
  {
   "cell_type": "code",
   "execution_count": 73,
   "metadata": {
    "collapsed": false
   },
   "outputs": [
    {
     "name": "stdout",
     "output_type": "stream",
     "text": [
      "<geograpy.places.PlaceContext object at 0x7f0ca0103d50>\n"
     ]
    }
   ],
   "source": [
    "text = \"My name is Zach Carwile and I live in the United States.\"\n",
    "test = geograpy.get_place_context(text=unicode(text,encoding='utf-8', errors='ignore'))\n",
    "print(test)"
   ]
  },
  {
   "cell_type": "code",
   "execution_count": 83,
   "metadata": {
    "collapsed": false
   },
   "outputs": [],
   "source": [
    "def getPlaces(text):\n",
    "    places = geograpy.get_place_context(text=text) # WHAT'S WRONG WITH THIS ONE LINE??!??\n",
    "    return places"
   ]
  },
  {
   "cell_type": "code",
   "execution_count": 84,
   "metadata": {
    "collapsed": false
   },
   "outputs": [
    {
     "ename": "Py4JJavaError",
     "evalue": "An error occurred while calling z:org.apache.spark.api.python.PythonRDD.runJob.\n: org.apache.spark.SparkException: Job aborted due to stage failure: Task 0 in stage 37.0 failed 4 times, most recent failure: Lost task 0.3 in stage 37.0 (TID 96, ip-172-31-4-74.ec2.internal): org.apache.spark.api.python.PythonException: Traceback (most recent call last):\n  File \"/opt/anaconda/share/spark/python/pyspark/worker.py\", line 98, in main\n    command = pickleSer._read_with_length(infile)\n  File \"/opt/anaconda/share/spark/python/pyspark/serializers.py\", line 164, in _read_with_length\n    return self.loads(obj)\n  File \"/opt/anaconda/share/spark/python/pyspark/serializers.py\", line 422, in loads\n    return pickle.loads(obj)\n  File \"/opt/anaconda/share/spark/python/pyspark/cloudpickle.py\", line 653, in subimport\n    __import__(name)\n  File \"/opt/anaconda/lib/python2.7/site-packages/geograpy/__init__.py\", line 2, in <module>\n    from places import PlaceContext\n  File \"/opt/anaconda/lib/python2.7/site-packages/geograpy/places.py\", line 3, in <module>\n    import pycountry\n  File \"/opt/anaconda/lib/python2.7/site-packages/pycountry/__init__.py\", line 9, in <module>\n    from pkg_resources import resource_filename\nIOError: [Errno zipimport: can not open file /opt/anaconda/lib/python2.7/site-packages/setuptools-19.6.2-py2.7.egg] <function subimport at 0x7fb9ec44db18>: ('geograpy',)\n\n\tat org.apache.spark.api.python.PythonRunner$$anon$1.read(PythonRDD.scala:166)\n\tat org.apache.spark.api.python.PythonRunner$$anon$1.<init>(PythonRDD.scala:207)\n\tat org.apache.spark.api.python.PythonRunner.compute(PythonRDD.scala:125)\n\tat org.apache.spark.api.python.PythonRDD.compute(PythonRDD.scala:70)\n\tat org.apache.spark.rdd.RDD.computeOrReadCheckpoint(RDD.scala:297)\n\tat org.apache.spark.rdd.RDD.iterator(RDD.scala:264)\n\tat org.apache.spark.scheduler.ResultTask.runTask(ResultTask.scala:66)\n\tat org.apache.spark.scheduler.Task.run(Task.scala:88)\n\tat org.apache.spark.executor.Executor$TaskRunner.run(Executor.scala:214)\n\tat java.util.concurrent.ThreadPoolExecutor.runWorker(ThreadPoolExecutor.java:1145)\n\tat java.util.concurrent.ThreadPoolExecutor$Worker.run(ThreadPoolExecutor.java:615)\n\tat java.lang.Thread.run(Thread.java:745)\n\nDriver stacktrace:\n\tat org.apache.spark.scheduler.DAGScheduler.org$apache$spark$scheduler$DAGScheduler$$failJobAndIndependentStages(DAGScheduler.scala:1283)\n\tat org.apache.spark.scheduler.DAGScheduler$$anonfun$abortStage$1.apply(DAGScheduler.scala:1271)\n\tat org.apache.spark.scheduler.DAGScheduler$$anonfun$abortStage$1.apply(DAGScheduler.scala:1270)\n\tat scala.collection.mutable.ResizableArray$class.foreach(ResizableArray.scala:59)\n\tat scala.collection.mutable.ArrayBuffer.foreach(ArrayBuffer.scala:47)\n\tat org.apache.spark.scheduler.DAGScheduler.abortStage(DAGScheduler.scala:1270)\n\tat org.apache.spark.scheduler.DAGScheduler$$anonfun$handleTaskSetFailed$1.apply(DAGScheduler.scala:697)\n\tat org.apache.spark.scheduler.DAGScheduler$$anonfun$handleTaskSetFailed$1.apply(DAGScheduler.scala:697)\n\tat scala.Option.foreach(Option.scala:236)\n\tat org.apache.spark.scheduler.DAGScheduler.handleTaskSetFailed(DAGScheduler.scala:697)\n\tat org.apache.spark.scheduler.DAGSchedulerEventProcessLoop.doOnReceive(DAGScheduler.scala:1496)\n\tat org.apache.spark.scheduler.DAGSchedulerEventProcessLoop.onReceive(DAGScheduler.scala:1458)\n\tat org.apache.spark.scheduler.DAGSchedulerEventProcessLoop.onReceive(DAGScheduler.scala:1447)\n\tat org.apache.spark.util.EventLoop$$anon$1.run(EventLoop.scala:48)\n\tat org.apache.spark.scheduler.DAGScheduler.runJob(DAGScheduler.scala:567)\n\tat org.apache.spark.SparkContext.runJob(SparkContext.scala:1822)\n\tat org.apache.spark.SparkContext.runJob(SparkContext.scala:1835)\n\tat org.apache.spark.SparkContext.runJob(SparkContext.scala:1848)\n\tat org.apache.spark.api.python.PythonRDD$.runJob(PythonRDD.scala:393)\n\tat org.apache.spark.api.python.PythonRDD.runJob(PythonRDD.scala)\n\tat sun.reflect.GeneratedMethodAccessor27.invoke(Unknown Source)\n\tat sun.reflect.DelegatingMethodAccessorImpl.invoke(DelegatingMethodAccessorImpl.java:43)\n\tat java.lang.reflect.Method.invoke(Method.java:606)\n\tat py4j.reflection.MethodInvoker.invoke(MethodInvoker.java:231)\n\tat py4j.reflection.ReflectionEngine.invoke(ReflectionEngine.java:379)\n\tat py4j.Gateway.invoke(Gateway.java:259)\n\tat py4j.commands.AbstractCommand.invokeMethod(AbstractCommand.java:133)\n\tat py4j.commands.CallCommand.execute(CallCommand.java:79)\n\tat py4j.GatewayConnection.run(GatewayConnection.java:207)\n\tat java.lang.Thread.run(Thread.java:745)\nCaused by: org.apache.spark.api.python.PythonException: Traceback (most recent call last):\n  File \"/opt/anaconda/share/spark/python/pyspark/worker.py\", line 98, in main\n    command = pickleSer._read_with_length(infile)\n  File \"/opt/anaconda/share/spark/python/pyspark/serializers.py\", line 164, in _read_with_length\n    return self.loads(obj)\n  File \"/opt/anaconda/share/spark/python/pyspark/serializers.py\", line 422, in loads\n    return pickle.loads(obj)\n  File \"/opt/anaconda/share/spark/python/pyspark/cloudpickle.py\", line 653, in subimport\n    __import__(name)\n  File \"/opt/anaconda/lib/python2.7/site-packages/geograpy/__init__.py\", line 2, in <module>\n    from places import PlaceContext\n  File \"/opt/anaconda/lib/python2.7/site-packages/geograpy/places.py\", line 3, in <module>\n    import pycountry\n  File \"/opt/anaconda/lib/python2.7/site-packages/pycountry/__init__.py\", line 9, in <module>\n    from pkg_resources import resource_filename\nIOError: [Errno zipimport: can not open file /opt/anaconda/lib/python2.7/site-packages/setuptools-19.6.2-py2.7.egg] <function subimport at 0x7fb9ec44db18>: ('geograpy',)\n\n\tat org.apache.spark.api.python.PythonRunner$$anon$1.read(PythonRDD.scala:166)\n\tat org.apache.spark.api.python.PythonRunner$$anon$1.<init>(PythonRDD.scala:207)\n\tat org.apache.spark.api.python.PythonRunner.compute(PythonRDD.scala:125)\n\tat org.apache.spark.api.python.PythonRDD.compute(PythonRDD.scala:70)\n\tat org.apache.spark.rdd.RDD.computeOrReadCheckpoint(RDD.scala:297)\n\tat org.apache.spark.rdd.RDD.iterator(RDD.scala:264)\n\tat org.apache.spark.scheduler.ResultTask.runTask(ResultTask.scala:66)\n\tat org.apache.spark.scheduler.Task.run(Task.scala:88)\n\tat org.apache.spark.executor.Executor$TaskRunner.run(Executor.scala:214)\n\tat java.util.concurrent.ThreadPoolExecutor.runWorker(ThreadPoolExecutor.java:1145)\n\tat java.util.concurrent.ThreadPoolExecutor$Worker.run(ThreadPoolExecutor.java:615)\n\t... 1 more\n",
     "output_type": "error",
     "traceback": [
      "\u001b[1;31m---------------------------------------------------------------------------\u001b[0m",
      "\u001b[1;31mPy4JJavaError\u001b[0m                             Traceback (most recent call last)",
      "\u001b[1;32m<ipython-input-84-72138f837d9f>\u001b[0m in \u001b[0;36m<module>\u001b[1;34m()\u001b[0m\n\u001b[0;32m      1\u001b[0m \u001b[0mplaces\u001b[0m \u001b[1;33m=\u001b[0m \u001b[0mdata\u001b[0m\u001b[1;33m.\u001b[0m\u001b[0mmap\u001b[0m\u001b[1;33m(\u001b[0m\u001b[1;32mlambda\u001b[0m \u001b[0mx\u001b[0m\u001b[1;33m:\u001b[0m \u001b[0mgetPlaces\u001b[0m\u001b[1;33m(\u001b[0m\u001b[0mx\u001b[0m\u001b[1;33m[\u001b[0m\u001b[1;36m1\u001b[0m\u001b[1;33m]\u001b[0m\u001b[1;33m)\u001b[0m\u001b[1;33m)\u001b[0m\u001b[1;33m\u001b[0m\u001b[0m\n\u001b[1;32m----> 2\u001b[1;33m \u001b[0mplaces\u001b[0m\u001b[1;33m.\u001b[0m\u001b[0mtake\u001b[0m\u001b[1;33m(\u001b[0m\u001b[1;36m1\u001b[0m\u001b[1;33m)\u001b[0m\u001b[1;33m\u001b[0m\u001b[0m\n\u001b[0m",
      "\u001b[1;32m/opt/anaconda/lib/python2.7/site-packages/pyspark/rdd.py\u001b[0m in \u001b[0;36mtake\u001b[1;34m(self, num)\u001b[0m\n\u001b[0;32m   1297\u001b[0m \u001b[1;33m\u001b[0m\u001b[0m\n\u001b[0;32m   1298\u001b[0m             \u001b[0mp\u001b[0m \u001b[1;33m=\u001b[0m \u001b[0mrange\u001b[0m\u001b[1;33m(\u001b[0m\u001b[0mpartsScanned\u001b[0m\u001b[1;33m,\u001b[0m \u001b[0mmin\u001b[0m\u001b[1;33m(\u001b[0m\u001b[0mpartsScanned\u001b[0m \u001b[1;33m+\u001b[0m \u001b[0mnumPartsToTry\u001b[0m\u001b[1;33m,\u001b[0m \u001b[0mtotalParts\u001b[0m\u001b[1;33m)\u001b[0m\u001b[1;33m)\u001b[0m\u001b[1;33m\u001b[0m\u001b[0m\n\u001b[1;32m-> 1299\u001b[1;33m             \u001b[0mres\u001b[0m \u001b[1;33m=\u001b[0m \u001b[0mself\u001b[0m\u001b[1;33m.\u001b[0m\u001b[0mcontext\u001b[0m\u001b[1;33m.\u001b[0m\u001b[0mrunJob\u001b[0m\u001b[1;33m(\u001b[0m\u001b[0mself\u001b[0m\u001b[1;33m,\u001b[0m \u001b[0mtakeUpToNumLeft\u001b[0m\u001b[1;33m,\u001b[0m \u001b[0mp\u001b[0m\u001b[1;33m)\u001b[0m\u001b[1;33m\u001b[0m\u001b[0m\n\u001b[0m\u001b[0;32m   1300\u001b[0m \u001b[1;33m\u001b[0m\u001b[0m\n\u001b[0;32m   1301\u001b[0m             \u001b[0mitems\u001b[0m \u001b[1;33m+=\u001b[0m \u001b[0mres\u001b[0m\u001b[1;33m\u001b[0m\u001b[0m\n",
      "\u001b[1;32m/opt/anaconda/lib/python2.7/site-packages/pyspark/context.py\u001b[0m in \u001b[0;36mrunJob\u001b[1;34m(self, rdd, partitionFunc, partitions, allowLocal)\u001b[0m\n\u001b[0;32m    914\u001b[0m         \u001b[1;31m# SparkContext#runJob.\u001b[0m\u001b[1;33m\u001b[0m\u001b[1;33m\u001b[0m\u001b[0m\n\u001b[0;32m    915\u001b[0m         \u001b[0mmappedRDD\u001b[0m \u001b[1;33m=\u001b[0m \u001b[0mrdd\u001b[0m\u001b[1;33m.\u001b[0m\u001b[0mmapPartitions\u001b[0m\u001b[1;33m(\u001b[0m\u001b[0mpartitionFunc\u001b[0m\u001b[1;33m)\u001b[0m\u001b[1;33m\u001b[0m\u001b[0m\n\u001b[1;32m--> 916\u001b[1;33m         \u001b[0mport\u001b[0m \u001b[1;33m=\u001b[0m \u001b[0mself\u001b[0m\u001b[1;33m.\u001b[0m\u001b[0m_jvm\u001b[0m\u001b[1;33m.\u001b[0m\u001b[0mPythonRDD\u001b[0m\u001b[1;33m.\u001b[0m\u001b[0mrunJob\u001b[0m\u001b[1;33m(\u001b[0m\u001b[0mself\u001b[0m\u001b[1;33m.\u001b[0m\u001b[0m_jsc\u001b[0m\u001b[1;33m.\u001b[0m\u001b[0msc\u001b[0m\u001b[1;33m(\u001b[0m\u001b[1;33m)\u001b[0m\u001b[1;33m,\u001b[0m \u001b[0mmappedRDD\u001b[0m\u001b[1;33m.\u001b[0m\u001b[0m_jrdd\u001b[0m\u001b[1;33m,\u001b[0m \u001b[0mpartitions\u001b[0m\u001b[1;33m)\u001b[0m\u001b[1;33m\u001b[0m\u001b[0m\n\u001b[0m\u001b[0;32m    917\u001b[0m         \u001b[1;32mreturn\u001b[0m \u001b[0mlist\u001b[0m\u001b[1;33m(\u001b[0m\u001b[0m_load_from_socket\u001b[0m\u001b[1;33m(\u001b[0m\u001b[0mport\u001b[0m\u001b[1;33m,\u001b[0m \u001b[0mmappedRDD\u001b[0m\u001b[1;33m.\u001b[0m\u001b[0m_jrdd_deserializer\u001b[0m\u001b[1;33m)\u001b[0m\u001b[1;33m)\u001b[0m\u001b[1;33m\u001b[0m\u001b[0m\n\u001b[0;32m    918\u001b[0m \u001b[1;33m\u001b[0m\u001b[0m\n",
      "\u001b[1;32m/opt/anaconda/lib/python2.7/site-packages/py4j/java_gateway.pyc\u001b[0m in \u001b[0;36m__call__\u001b[1;34m(self, *args)\u001b[0m\n\u001b[0;32m    811\u001b[0m         \u001b[0manswer\u001b[0m \u001b[1;33m=\u001b[0m \u001b[0mself\u001b[0m\u001b[1;33m.\u001b[0m\u001b[0mgateway_client\u001b[0m\u001b[1;33m.\u001b[0m\u001b[0msend_command\u001b[0m\u001b[1;33m(\u001b[0m\u001b[0mcommand\u001b[0m\u001b[1;33m)\u001b[0m\u001b[1;33m\u001b[0m\u001b[0m\n\u001b[0;32m    812\u001b[0m         return_value = get_return_value(\n\u001b[1;32m--> 813\u001b[1;33m             answer, self.gateway_client, self.target_id, self.name)\n\u001b[0m\u001b[0;32m    814\u001b[0m \u001b[1;33m\u001b[0m\u001b[0m\n\u001b[0;32m    815\u001b[0m         \u001b[1;32mfor\u001b[0m \u001b[0mtemp_arg\u001b[0m \u001b[1;32min\u001b[0m \u001b[0mtemp_args\u001b[0m\u001b[1;33m:\u001b[0m\u001b[1;33m\u001b[0m\u001b[0m\n",
      "\u001b[1;32m/opt/anaconda/lib/python2.7/site-packages/py4j/protocol.pyc\u001b[0m in \u001b[0;36mget_return_value\u001b[1;34m(answer, gateway_client, target_id, name)\u001b[0m\n\u001b[0;32m    306\u001b[0m                 raise Py4JJavaError(\n\u001b[0;32m    307\u001b[0m                     \u001b[1;34m\"An error occurred while calling {0}{1}{2}.\\n\"\u001b[0m\u001b[1;33m.\u001b[0m\u001b[1;33m\u001b[0m\u001b[0m\n\u001b[1;32m--> 308\u001b[1;33m                     format(target_id, \".\", name), value)\n\u001b[0m\u001b[0;32m    309\u001b[0m             \u001b[1;32melse\u001b[0m\u001b[1;33m:\u001b[0m\u001b[1;33m\u001b[0m\u001b[0m\n\u001b[0;32m    310\u001b[0m                 raise Py4JError(\n",
      "\u001b[1;31mPy4JJavaError\u001b[0m: An error occurred while calling z:org.apache.spark.api.python.PythonRDD.runJob.\n: org.apache.spark.SparkException: Job aborted due to stage failure: Task 0 in stage 37.0 failed 4 times, most recent failure: Lost task 0.3 in stage 37.0 (TID 96, ip-172-31-4-74.ec2.internal): org.apache.spark.api.python.PythonException: Traceback (most recent call last):\n  File \"/opt/anaconda/share/spark/python/pyspark/worker.py\", line 98, in main\n    command = pickleSer._read_with_length(infile)\n  File \"/opt/anaconda/share/spark/python/pyspark/serializers.py\", line 164, in _read_with_length\n    return self.loads(obj)\n  File \"/opt/anaconda/share/spark/python/pyspark/serializers.py\", line 422, in loads\n    return pickle.loads(obj)\n  File \"/opt/anaconda/share/spark/python/pyspark/cloudpickle.py\", line 653, in subimport\n    __import__(name)\n  File \"/opt/anaconda/lib/python2.7/site-packages/geograpy/__init__.py\", line 2, in <module>\n    from places import PlaceContext\n  File \"/opt/anaconda/lib/python2.7/site-packages/geograpy/places.py\", line 3, in <module>\n    import pycountry\n  File \"/opt/anaconda/lib/python2.7/site-packages/pycountry/__init__.py\", line 9, in <module>\n    from pkg_resources import resource_filename\nIOError: [Errno zipimport: can not open file /opt/anaconda/lib/python2.7/site-packages/setuptools-19.6.2-py2.7.egg] <function subimport at 0x7fb9ec44db18>: ('geograpy',)\n\n\tat org.apache.spark.api.python.PythonRunner$$anon$1.read(PythonRDD.scala:166)\n\tat org.apache.spark.api.python.PythonRunner$$anon$1.<init>(PythonRDD.scala:207)\n\tat org.apache.spark.api.python.PythonRunner.compute(PythonRDD.scala:125)\n\tat org.apache.spark.api.python.PythonRDD.compute(PythonRDD.scala:70)\n\tat org.apache.spark.rdd.RDD.computeOrReadCheckpoint(RDD.scala:297)\n\tat org.apache.spark.rdd.RDD.iterator(RDD.scala:264)\n\tat org.apache.spark.scheduler.ResultTask.runTask(ResultTask.scala:66)\n\tat org.apache.spark.scheduler.Task.run(Task.scala:88)\n\tat org.apache.spark.executor.Executor$TaskRunner.run(Executor.scala:214)\n\tat java.util.concurrent.ThreadPoolExecutor.runWorker(ThreadPoolExecutor.java:1145)\n\tat java.util.concurrent.ThreadPoolExecutor$Worker.run(ThreadPoolExecutor.java:615)\n\tat java.lang.Thread.run(Thread.java:745)\n\nDriver stacktrace:\n\tat org.apache.spark.scheduler.DAGScheduler.org$apache$spark$scheduler$DAGScheduler$$failJobAndIndependentStages(DAGScheduler.scala:1283)\n\tat org.apache.spark.scheduler.DAGScheduler$$anonfun$abortStage$1.apply(DAGScheduler.scala:1271)\n\tat org.apache.spark.scheduler.DAGScheduler$$anonfun$abortStage$1.apply(DAGScheduler.scala:1270)\n\tat scala.collection.mutable.ResizableArray$class.foreach(ResizableArray.scala:59)\n\tat scala.collection.mutable.ArrayBuffer.foreach(ArrayBuffer.scala:47)\n\tat org.apache.spark.scheduler.DAGScheduler.abortStage(DAGScheduler.scala:1270)\n\tat org.apache.spark.scheduler.DAGScheduler$$anonfun$handleTaskSetFailed$1.apply(DAGScheduler.scala:697)\n\tat org.apache.spark.scheduler.DAGScheduler$$anonfun$handleTaskSetFailed$1.apply(DAGScheduler.scala:697)\n\tat scala.Option.foreach(Option.scala:236)\n\tat org.apache.spark.scheduler.DAGScheduler.handleTaskSetFailed(DAGScheduler.scala:697)\n\tat org.apache.spark.scheduler.DAGSchedulerEventProcessLoop.doOnReceive(DAGScheduler.scala:1496)\n\tat org.apache.spark.scheduler.DAGSchedulerEventProcessLoop.onReceive(DAGScheduler.scala:1458)\n\tat org.apache.spark.scheduler.DAGSchedulerEventProcessLoop.onReceive(DAGScheduler.scala:1447)\n\tat org.apache.spark.util.EventLoop$$anon$1.run(EventLoop.scala:48)\n\tat org.apache.spark.scheduler.DAGScheduler.runJob(DAGScheduler.scala:567)\n\tat org.apache.spark.SparkContext.runJob(SparkContext.scala:1822)\n\tat org.apache.spark.SparkContext.runJob(SparkContext.scala:1835)\n\tat org.apache.spark.SparkContext.runJob(SparkContext.scala:1848)\n\tat org.apache.spark.api.python.PythonRDD$.runJob(PythonRDD.scala:393)\n\tat org.apache.spark.api.python.PythonRDD.runJob(PythonRDD.scala)\n\tat sun.reflect.GeneratedMethodAccessor27.invoke(Unknown Source)\n\tat sun.reflect.DelegatingMethodAccessorImpl.invoke(DelegatingMethodAccessorImpl.java:43)\n\tat java.lang.reflect.Method.invoke(Method.java:606)\n\tat py4j.reflection.MethodInvoker.invoke(MethodInvoker.java:231)\n\tat py4j.reflection.ReflectionEngine.invoke(ReflectionEngine.java:379)\n\tat py4j.Gateway.invoke(Gateway.java:259)\n\tat py4j.commands.AbstractCommand.invokeMethod(AbstractCommand.java:133)\n\tat py4j.commands.CallCommand.execute(CallCommand.java:79)\n\tat py4j.GatewayConnection.run(GatewayConnection.java:207)\n\tat java.lang.Thread.run(Thread.java:745)\nCaused by: org.apache.spark.api.python.PythonException: Traceback (most recent call last):\n  File \"/opt/anaconda/share/spark/python/pyspark/worker.py\", line 98, in main\n    command = pickleSer._read_with_length(infile)\n  File \"/opt/anaconda/share/spark/python/pyspark/serializers.py\", line 164, in _read_with_length\n    return self.loads(obj)\n  File \"/opt/anaconda/share/spark/python/pyspark/serializers.py\", line 422, in loads\n    return pickle.loads(obj)\n  File \"/opt/anaconda/share/spark/python/pyspark/cloudpickle.py\", line 653, in subimport\n    __import__(name)\n  File \"/opt/anaconda/lib/python2.7/site-packages/geograpy/__init__.py\", line 2, in <module>\n    from places import PlaceContext\n  File \"/opt/anaconda/lib/python2.7/site-packages/geograpy/places.py\", line 3, in <module>\n    import pycountry\n  File \"/opt/anaconda/lib/python2.7/site-packages/pycountry/__init__.py\", line 9, in <module>\n    from pkg_resources import resource_filename\nIOError: [Errno zipimport: can not open file /opt/anaconda/lib/python2.7/site-packages/setuptools-19.6.2-py2.7.egg] <function subimport at 0x7fb9ec44db18>: ('geograpy',)\n\n\tat org.apache.spark.api.python.PythonRunner$$anon$1.read(PythonRDD.scala:166)\n\tat org.apache.spark.api.python.PythonRunner$$anon$1.<init>(PythonRDD.scala:207)\n\tat org.apache.spark.api.python.PythonRunner.compute(PythonRDD.scala:125)\n\tat org.apache.spark.api.python.PythonRDD.compute(PythonRDD.scala:70)\n\tat org.apache.spark.rdd.RDD.computeOrReadCheckpoint(RDD.scala:297)\n\tat org.apache.spark.rdd.RDD.iterator(RDD.scala:264)\n\tat org.apache.spark.scheduler.ResultTask.runTask(ResultTask.scala:66)\n\tat org.apache.spark.scheduler.Task.run(Task.scala:88)\n\tat org.apache.spark.executor.Executor$TaskRunner.run(Executor.scala:214)\n\tat java.util.concurrent.ThreadPoolExecutor.runWorker(ThreadPoolExecutor.java:1145)\n\tat java.util.concurrent.ThreadPoolExecutor$Worker.run(ThreadPoolExecutor.java:615)\n\t... 1 more\n"
     ]
    }
   ],
   "source": [
    "places = data.map(lambda x: getPlaces(x[1]))\n",
    "places.take(1)"
   ]
  },
  {
   "cell_type": "markdown",
   "metadata": {},
   "source": [
    "### Visualization"
   ]
  },
  {
   "cell_type": "code",
   "execution_count": null,
   "metadata": {
    "collapsed": true
   },
   "outputs": [],
   "source": []
  }
 ],
 "metadata": {
  "kernelspec": {
   "display_name": "Python 2",
   "language": "python",
   "name": "python2"
  },
  "language_info": {
   "codemirror_mode": {
    "name": "ipython",
    "version": 2
   },
   "file_extension": ".py",
   "mimetype": "text/x-python",
   "name": "python",
   "nbconvert_exporter": "python",
   "pygments_lexer": "ipython2",
   "version": "2.7.11"
  }
 },
 "nbformat": 4,
 "nbformat_minor": 0
}
